{
 "cells": [
  {
   "cell_type": "markdown",
   "metadata": {},
   "source": [
    "# Diagnose prediction using Bladder cancer genomics data"
   ]
  },
  {
   "cell_type": "markdown",
   "metadata": {},
   "source": [
    "### Installation"
   ]
  },
  {
   "cell_type": "code",
   "execution_count": 1,
   "metadata": {},
   "outputs": [
    {
     "name": "stderr",
     "output_type": "stream",
     "text": [
      "Bioconductor version 3.10 (BiocManager 1.30.10), R 3.6.2 (2019-12-12)\n",
      "\n",
      "Installing package(s) 'TCGAWorkflow'\n",
      "\n",
      "installing the source package ‘TCGAWorkflow’\n",
      "\n",
      "\n",
      "Old packages: 'actuar', 'anytime', 'ape', 'arm', 'backports', 'bibtex',\n",
      "  'BisqueRNA', 'bit', 'bit64', 'bookdown', 'broom', 'car', 'circlize', 'covr',\n",
      "  'cowplot', 'dbplyr', 'deldir', 'dendextend', 'devtools', 'docopt', 'dplyr',\n",
      "  'DT', 'effects', 'ellipse', 'europepmc', 'expm', 'fields', 'fit.models',\n",
      "  'forecast', 'forecastHybrid', 'fpc', 'FrF2', 'fs', 'future', 'future.apply',\n",
      "  'gbm', 'GetoptLong', 'GGally', 'ggdendro', 'ggforce', 'ggpmisc', 'ggpubr',\n",
      "  'glmnet', 'GlobalOptions', 'globals', 'gmp', 'gower', 'gplots', 'haven',\n",
      "  'hdf5r', 'heatmaply', 'Hmisc', 'htmlTable', 'htmltools', 'hts', 'httpuv',\n",
      "  'httr', 'IRkernel', 'jsonlite', 'kableExtra', 'knitr', 'later', 'lavaan',\n",
      "  'libcoin', 'lmtest', 'lpSolveAPI', 'lsei', 'lubridate', 'maptools', 'MASS',\n",
      "  'MBESS', 'MCMCpack', 'metap', 'mgcv', 'mnormt', 'mvtnorm', 'nlme', 'nloptr',\n",
      "  'NMF', 'npsurv', 'OpenMx', 'openssl', 'openxlsx', 'parmigene', 'patchwork',\n",
      "  'pbapply', 'pls', 'promises', 'psych', 'quantreg', 'R.methodsS3', 'R.oo',\n",
      "  'R.utils', 'raster', 'RcppArmadillo', 'RcppHNSW', 'RcppParallel', 'Rdpack',\n",
      "  'recipes', 'remotes', 'reticulate', 'rgdal', 'rJava', 'rmarkdown',\n",
      "  'roxygen2', 'rpf', 'rrcov', 'rsample', 'rstatix', 'rvest', 'sctransform',\n",
      "  'segmented', 'semTools', 'Seurat', 'sf', 'shape', 'shiny', 'simmer',\n",
      "  'SingleR', 'sn', 'spData', 'spdep', 'SQUAREM', 'StanHeaders', 'stringi',\n",
      "  'survival', 'survminer', 'sys', 'tidyr', 'tinytex', 'tsibble', 'TTR',\n",
      "  'units', 'usethis', 'xfun', 'xts', 'zip'\n",
      "\n"
     ]
    }
   ],
   "source": [
    "if (!\"BiocManager\" %in% rownames(installed.packages()))\n",
    "  install.packages(\"BiocManager\")\n",
    "BiocManager::install(\"TCGAWorkflow\")"
   ]
  },
  {
   "cell_type": "markdown",
   "metadata": {},
   "source": [
    "### Loading packages"
   ]
  },
  {
   "cell_type": "markdown",
   "metadata": {},
   "source": [
    "TCGAWorkflowData: this package contains the data needed to perform each analysis step. This is a subset of the download to make the examples faster. For the real analysis, use all available data.\n",
    "\n",
    "DT: We will use it to visualize the results."
   ]
  },
  {
   "cell_type": "code",
   "execution_count": 1,
   "metadata": {},
   "outputs": [
    {
     "name": "stderr",
     "output_type": "stream",
     "text": [
      "Warning message:\n",
      "“replacing previous import ‘vctrs::data_frame’ by ‘tibble::data_frame’ when loading ‘dplyr’”\n"
     ]
    }
   ],
   "source": [
    "library(TCGAWorkflowData)\n",
    "library(DT)\n",
    "library(TCGAbiolinks)"
   ]
  },
  {
   "cell_type": "code",
   "execution_count": null,
   "metadata": {},
   "outputs": [],
   "source": [
    "library(Seurat)"
   ]
  },
  {
   "cell_type": "markdown",
   "metadata": {},
   "source": [
    "# Abstract\n",
    "\n",
    "This demo provides a series of biologically comprehensive analyses for different molecular data. We describe how to download, process and prepare TCGA data, and how to extract biologically significant genomic and epigenomic data by utilizing several key Bioconductor packages."
   ]
  },
  {
   "cell_type": "markdown",
   "metadata": {},
   "source": [
    "## Introduction\n",
    "\n",
    "Recent technological developments have made it possible to deposit large amounts of genomic data, such as gene expression, into freely available public international consortia such as the Cancer Genome Atlas (TCGA).\n",
    "\n",
    "The Cancer Genome Atlas (TCGA) is an initiative of the National Institutes of Health (NIH) that makes publicly available molecular and clinical information on more than 30 human cancers, including exomes (mutation analysis), single nucleotide polymorphisms (SNPs), DNA methylation, transcriptomes (mRNAs), microRNAs (miRNAs), and proteomes. The TCGA makes available The sample types are: primary solid tumor, recurrent solid tumor, hematogenous normal and tumor, metastatic and solid tissue normal (Weinstein et al., 2013)."
   ]
  },
  {
   "cell_type": "markdown",
   "metadata": {},
   "source": [
    "# Methods\n",
    "\n",
    "## Access to the data"
   ]
  },
  {
   "cell_type": "code",
   "execution_count": 5,
   "metadata": {},
   "outputs": [
    {
     "name": "stderr",
     "output_type": "stream",
     "text": [
      "--------------------------------------\n",
      "\n",
      "o GDCquery: Searching in GDC database\n",
      "\n",
      "--------------------------------------\n",
      "\n",
      "Genome of reference: hg19\n",
      "\n",
      "--------------------------------------------\n",
      "\n",
      "oo Accessing GDC. This might take a while...\n",
      "\n",
      "--------------------------------------------\n",
      "\n",
      "ooo Project: TCGA-BLCA\n",
      "\n",
      "--------------------\n",
      "\n",
      "oo Filtering results\n",
      "\n",
      "--------------------\n",
      "\n",
      "ooo By platform\n",
      "\n",
      "ooo By data.type\n",
      "\n",
      "ooo By file.type\n",
      "\n",
      "----------------\n",
      "\n",
      "oo Checking data\n",
      "\n",
      "----------------\n",
      "\n",
      "ooo Check if there are duplicated cases\n",
      "\n",
      "ooo Check if there results for the query\n",
      "\n",
      "-------------------\n",
      "\n",
      "o Preparing output\n",
      "\n",
      "-------------------\n",
      "\n"
     ]
    }
   ],
   "source": [
    "query.exp <- GDCquery(project = \"TCGA-BLCA\",\n",
    "                      data.category = \"Gene expression\",\n",
    "                      data.type = \"Gene expression quantification\",\n",
    "                      platform = \"Illumina HiSeq\", \n",
    "                      file.type  = \"results\", \n",
    "                      #sample.type = \"Primary solid Tumor\",\n",
    "                      legacy = TRUE)"
   ]
  },
  {
   "cell_type": "code",
   "execution_count": 6,
   "metadata": {},
   "outputs": [
    {
     "name": "stderr",
     "output_type": "stream",
     "text": [
      "Downloading data for project TCGA-BLCA\n",
      "\n",
      "GDCdownload will download 433 files. A total of 653.38212 MB\n",
      "\n",
      "Downloading as: Sun_Sep_20_22_39_54_2020.tar.gz\n",
      "\n"
     ]
    },
    {
     "name": "stdout",
     "output_type": "stream",
     "text": [
      "Downloading: 260 MB       "
     ]
    }
   ],
   "source": [
    "GDCdownload(query.exp)"
   ]
  },
  {
   "cell_type": "code",
   "execution_count": 7,
   "metadata": {},
   "outputs": [
    {
     "name": "stderr",
     "output_type": "stream",
     "text": [
      "--------------------\n",
      "\n",
      "oo Reading 433 files\n",
      "\n",
      "--------------------\n",
      "\n"
     ]
    },
    {
     "name": "stdout",
     "output_type": "stream",
     "text": [
      "|====================================================|100%                      Completed after 1 m \n"
     ]
    },
    {
     "name": "stderr",
     "output_type": "stream",
     "text": [
      "--------------------\n",
      "\n",
      "oo Merging 433 files\n",
      "\n",
      "--------------------\n",
      "\n",
      "Accessing grch37.ensembl.org to get gene information\n",
      "\n",
      "Downloading genome information (try:0) Using: Human genes (GRCh37.p13)\n",
      "\n",
      "Warning message:\n",
      "“`select_()` is deprecated as of dplyr 0.7.0.\n",
      "Please use `select()` instead.\n",
      "\u001b[90mThis warning is displayed once every 8 hours.\u001b[39m\n",
      "\u001b[90mCall `lifecycle::last_warnings()` to see where this warning was generated.\u001b[39m”\n",
      "Warning message:\n",
      "“`filter_()` is deprecated as of dplyr 0.7.0.\n",
      "Please use `filter()` instead.\n",
      "See vignette('programming') for more help\n",
      "\u001b[90mThis warning is displayed once every 8 hours.\u001b[39m\n",
      "\u001b[90mCall `lifecycle::last_warnings()` to see where this warning was generated.\u001b[39m”\n",
      "Cache found\n",
      "\n",
      "Starting to add information to samples\n",
      "\n",
      " => Add clinical information to samples\n",
      "\n",
      " => Adding TCGA molecular information from marker papers\n",
      "\n",
      " => Information will have prefix 'paper_' \n",
      "\n",
      "blca subtype information from:doi:10.1016/j.cell.2017.09.007\n",
      "\n"
     ]
    }
   ],
   "source": [
    "exp <- GDCprepare(query.exp, save = FALSE)"
   ]
  },
  {
   "cell_type": "code",
   "execution_count": 8,
   "metadata": {},
   "outputs": [
    {
     "data": {
      "text/plain": [
       "class: RangedSummarizedExperiment \n",
       "dim: 19947 433 \n",
       "metadata(1): data_release\n",
       "assays(2): raw_count scaled_estimate\n",
       "rownames(19947): A1BG|1 A2M|2 ... TMED7-TICAM2|100302736\n",
       "  LOC100303728|100303728\n",
       "rowData names(4): gene_id entrezgene ensembl_gene_id\n",
       "  transcript_id.transcript_id_TCGA-BL-A13J-01B-04R-A277-07\n",
       "colnames(433): TCGA-BL-A13J-01B-04R-A277-07\n",
       "  TCGA-KQ-A41N-01A-11R-A33J-07 ... TCGA-4Z-AA7Q-01A-11R-A39I-07\n",
       "  TCGA-4Z-AA89-01A-11R-A39I-07\n",
       "colData names(239): barcode patient ... paper_Fusion in TNFRSF21\n",
       "  paper_Fusion in ASIP"
      ]
     },
     "metadata": {},
     "output_type": "display_data"
    }
   ],
   "source": [
    "exp"
   ]
  },
  {
   "cell_type": "code",
   "execution_count": null,
   "metadata": {},
   "outputs": [],
   "source": []
  }
 ],
 "metadata": {
  "kernelspec": {
   "display_name": "R",
   "language": "R",
   "name": "ir"
  },
  "language_info": {
   "codemirror_mode": "r",
   "file_extension": ".r",
   "mimetype": "text/x-r-source",
   "name": "R",
   "pygments_lexer": "r",
   "version": "3.6.2"
  }
 },
 "nbformat": 4,
 "nbformat_minor": 4
}
